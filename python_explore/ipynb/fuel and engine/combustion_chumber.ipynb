{
 "cells": [
  {
   "cell_type": "code",
   "execution_count": 1,
   "id": "737031a1",
   "metadata": {},
   "outputs": [],
   "source": [
    "import numpy as np"
   ]
  },
  {
   "cell_type": "code",
   "execution_count": 1,
   "id": "2741464c",
   "metadata": {},
   "outputs": [],
   "source": [
    "def chumber(R_gas, T_flame, V_cam, m_dot_fuel, m_dot_noz, P_current, dt):\n",
    "    dP_dt = (R_gas*T_flame/V_cam)*(m_dot_fuel-m_dot_noz)\n",
    "    P_current += dP_dt*dt\n",
    "    return P_current"
   ]
  }
 ],
 "metadata": {
  "kernelspec": {
   "display_name": "my_env",
   "language": "python",
   "name": "python3"
  },
  "language_info": {
   "codemirror_mode": {
    "name": "ipython",
    "version": 3
   },
   "file_extension": ".py",
   "mimetype": "text/x-python",
   "name": "python",
   "nbconvert_exporter": "python",
   "pygments_lexer": "ipython3",
   "version": "3.9.21"
  }
 },
 "nbformat": 4,
 "nbformat_minor": 5
}
