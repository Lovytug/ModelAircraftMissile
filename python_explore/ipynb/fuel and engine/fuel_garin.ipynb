{
 "cells": [
  {
   "cell_type": "code",
   "execution_count": null,
   "id": "f85de6f6",
   "metadata": {},
   "outputs": [],
   "source": [
    "import numpy as np"
   ]
  },
  {
   "cell_type": "code",
   "execution_count": null,
   "id": "bb6dfd9b",
   "metadata": {},
   "outputs": [],
   "source": [
    "def S_boost(r_inner, A_star_amp, k_star, L_boost):\n",
    "    theta = np.linspace(0.0, 2.0*np.pi, 400)\n",
    "    r_theta = r_inner + A_star_amp*np.cos(k_star*theta)\n",
    "    r_theta = np.maximum(r_theta, 1e-12)\n",
    "    dr_dtheta = -A_star_amp*k_star*np.sin(k_star*theta)\n",
    "    integrand = r_theta * np.sqrt(1.0 + (dr_dtheta / r_theta)**2)\n",
    "    return L_boost * np.trapz(integrand, theta)\n",
    "\n",
    "\n",
    "def S_sustain(r_inner, L_sus):\n",
    "    return 2.0*np.pi*r_inner*L_sus"
   ]
  }
 ],
 "metadata": {
  "kernelspec": {
   "display_name": "my_env",
   "language": "python",
   "name": "python3"
  },
  "language_info": {
   "codemirror_mode": {
    "name": "ipython",
    "version": 3
   },
   "file_extension": ".py",
   "mimetype": "text/x-python",
   "name": "python",
   "nbconvert_exporter": "python",
   "pygments_lexer": "ipython3",
   "version": "3.9.21"
  }
 },
 "nbformat": 4,
 "nbformat_minor": 5
}
